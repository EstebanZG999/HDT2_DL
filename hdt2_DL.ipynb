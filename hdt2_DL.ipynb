{
 "cells": [
  {
   "cell_type": "markdown",
   "id": "8920870e",
   "metadata": {},
   "source": [
    "# Hoja de Trabajo 2 Deep Learning\n",
    "\n",
    "Hoja de trabajo 2 – Deep Learning\n",
    "\n",
    "Edwin Ortega 22305 - Esteban Zambrano 22119\n",
    "\n",
    "Link del repositorio:<br>\n",
    "https://github.com/EstebanZG999/HDT2_DL"
   ]
  },
  {
   "cell_type": "markdown",
   "id": "b48ef921",
   "metadata": {},
   "source": [
    "### Task 1"
   ]
  },
  {
   "cell_type": "code",
   "execution_count": 1,
   "id": "74e1da34",
   "metadata": {},
   "outputs": [
    {
     "name": "stdout",
     "output_type": "stream",
     "text": [
      "Train shape: torch.Size([120, 4]) torch.Size([120])\n",
      "Validation shape: torch.Size([30, 4]) torch.Size([30])\n"
     ]
    }
   ],
   "source": [
    "import torch\n",
    "import torch.nn as nn\n",
    "import torch.optim as optim\n",
    "from sklearn.datasets import load_iris\n",
    "from sklearn.model_selection import train_test_split\n",
    "from sklearn.preprocessing import StandardScaler\n",
    "\n",
    "# Cargar dataset\n",
    "iris = load_iris()\n",
    "X, y = iris.data, iris.target\n",
    "\n",
    "# Normalizar\n",
    "scaler = StandardScaler()\n",
    "X = scaler.fit_transform(X)\n",
    "\n",
    "# Dividir train/val\n",
    "X_train, X_val, y_train, y_val = train_test_split(\n",
    "    X, y, test_size=0.2, random_state=42, stratify=y\n",
    ")\n",
    "\n",
    "# Convertir a tensores\n",
    "X_train = torch.tensor(X_train, dtype=torch.float32)\n",
    "y_train = torch.tensor(y_train, dtype=torch.long)\n",
    "X_val = torch.tensor(X_val, dtype=torch.float32)\n",
    "y_val = torch.tensor(y_val, dtype=torch.long)\n",
    "\n",
    "print(\"Train shape:\", X_train.shape, y_train.shape)\n",
    "print(\"Validation shape:\", X_val.shape, y_val.shape)\n"
   ]
  },
  {
   "cell_type": "markdown",
   "id": "86bf7dee",
   "metadata": {},
   "source": [
    "### Task 2"
   ]
  },
  {
   "cell_type": "code",
   "execution_count": 2,
   "id": "d2567052",
   "metadata": {},
   "outputs": [
    {
     "name": "stdout",
     "output_type": "stream",
     "text": [
      "MLPClassifier(\n",
      "  (net): Sequential(\n",
      "    (0): Linear(in_features=4, out_features=32, bias=True)\n",
      "    (1): ReLU()\n",
      "    (2): Linear(in_features=32, out_features=16, bias=True)\n",
      "    (3): ReLU()\n",
      "    (4): Linear(in_features=16, out_features=3, bias=True)\n",
      "  )\n",
      ")\n",
      "Parámetros totales: 739\n"
     ]
    }
   ],
   "source": [
    "import torch\n",
    "import torch.nn as nn\n",
    "\n",
    "def get_activation(name: str) -> nn.Module:\n",
    "    \"\"\"Devuelve una activación por nombre.\"\"\"\n",
    "    name = name.lower()\n",
    "    if name == \"relu\":\n",
    "        return nn.ReLU()\n",
    "    if name == \"tanh\":\n",
    "        return nn.Tanh()\n",
    "    if name == \"leakyrelu\":\n",
    "        return nn.LeakyReLU()\n",
    "    if name == \"gelu\":\n",
    "        return nn.GELU()\n",
    "    raise ValueError(f\"Activación no soportada: {name}\")\n",
    "\n",
    "class MLPClassifier(nn.Module):\n",
    "    \"\"\"\n",
    "    MLP simple para clasificación en Iris:\n",
    "    - Arquitectura parametrizable: hidden_layers, activación, dropout.\n",
    "    - Última capa produce logits (sin softmax); compat. con CrossEntropyLoss.\n",
    "    \"\"\"\n",
    "    def __init__(\n",
    "        self,\n",
    "        input_dim: int,\n",
    "        output_dim: int,\n",
    "        hidden_layers=(16, 16),\n",
    "        activation=\"relu\",\n",
    "        dropout_p=0.0,\n",
    "        use_batchnorm=False,\n",
    "    ):\n",
    "        super().__init__()\n",
    "        act = get_activation(activation)\n",
    "\n",
    "        layers = []\n",
    "        prev = input_dim\n",
    "        for h in hidden_layers:\n",
    "            layers.append(nn.Linear(prev, h))\n",
    "            if use_batchnorm:\n",
    "                layers.append(nn.BatchNorm1d(h))\n",
    "            layers.append(act)\n",
    "            if dropout_p and dropout_p > 0:\n",
    "                layers.append(nn.Dropout(p=dropout_p))\n",
    "            prev = h\n",
    "\n",
    "        # Capa de salida (logits)\n",
    "        layers.append(nn.Linear(prev, output_dim))\n",
    "\n",
    "        self.net = nn.Sequential(*layers)\n",
    "\n",
    "        # Inicialización razonable (Kaiming para ReLU/LeakyReLU, Xavier para otras)\n",
    "        for m in self.modules():\n",
    "            if isinstance(m, nn.Linear):\n",
    "                if activation.lower() in [\"relu\", \"leakyrelu\"]:\n",
    "                    nn.init.kaiming_uniform_(m.weight, nonlinearity=\"relu\")\n",
    "                else:\n",
    "                    nn.init.xavier_uniform_(m.weight)\n",
    "                if m.bias is not None:\n",
    "                    nn.init.zeros_(m.bias)\n",
    "\n",
    "    def forward(self, x):\n",
    "        return self.net(x)\n",
    "\n",
    "# Instancia recomendada para Iris\n",
    "input_dim = 4   # iris.features\n",
    "output_dim = 3  # 3 clases\n",
    "model = MLPClassifier(\n",
    "    input_dim=input_dim,\n",
    "    output_dim=output_dim,\n",
    "    hidden_layers=(32, 16),   \n",
    "    activation=\"relu\",        # \"relu\", \"tanh\", \"gelu\", \"leakyrelu\"\n",
    "    dropout_p=0.0,\n",
    "    use_batchnorm=False\n",
    ")\n",
    "\n",
    "print(model)\n",
    "sum_params = sum(p.numel() for p in model.parameters())\n",
    "print(f\"Parámetros totales: {sum_params}\")\n"
   ]
  }
 ],
 "metadata": {
  "kernelspec": {
   "display_name": "Python 3",
   "language": "python",
   "name": "python3"
  },
  "language_info": {
   "codemirror_mode": {
    "name": "ipython",
    "version": 3
   },
   "file_extension": ".py",
   "mimetype": "text/x-python",
   "name": "python",
   "nbconvert_exporter": "python",
   "pygments_lexer": "ipython3",
   "version": "3.13.3"
  }
 },
 "nbformat": 4,
 "nbformat_minor": 5
}
